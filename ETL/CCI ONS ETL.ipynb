{
 "cells": [
  {
   "cell_type": "code",
   "execution_count": 96,
   "id": "c0de6534",
   "metadata": {},
   "outputs": [
    {
     "name": "stdout",
     "output_type": "stream",
     "text": [
      "Note: you may need to restart the kernel to use updated packages.\n"
     ]
    }
   ],
   "source": [
    "pip install xlrd>=2.0.1"
   ]
  },
  {
   "cell_type": "code",
   "execution_count": 97,
   "id": "d1085efb",
   "metadata": {},
   "outputs": [],
   "source": [
    "import pandas as pd"
   ]
  },
  {
   "cell_type": "code",
   "execution_count": 98,
   "id": "4d27cc8c",
   "metadata": {},
   "outputs": [
    {
     "ename": "FileNotFoundError",
     "evalue": "[Errno 2] No such file or directory: 'C:\\\\Git_test\\\\Project 2 Docs\\\\Data Sets\\\\Consumer Confidence Index.csv'",
     "output_type": "error",
     "traceback": [
      "\u001b[1;31m---------------------------------------------------------------------------\u001b[0m",
      "\u001b[1;31mFileNotFoundError\u001b[0m                         Traceback (most recent call last)",
      "Cell \u001b[1;32mIn[98], line 1\u001b[0m\n\u001b[1;32m----> 1\u001b[0m df \u001b[38;5;241m=\u001b[39m \u001b[43mpd\u001b[49m\u001b[38;5;241;43m.\u001b[39;49m\u001b[43mread_csv\u001b[49m\u001b[43m(\u001b[49m\u001b[38;5;124;43mr\u001b[39;49m\u001b[38;5;124;43m\"\u001b[39;49m\u001b[38;5;124;43mC:\u001b[39;49m\u001b[38;5;124;43m\\\u001b[39;49m\u001b[38;5;124;43mGit_test\u001b[39;49m\u001b[38;5;124;43m\\\u001b[39;49m\u001b[38;5;124;43mProject 2 Docs\u001b[39;49m\u001b[38;5;124;43m\\\u001b[39;49m\u001b[38;5;124;43mData Sets\u001b[39;49m\u001b[38;5;124;43m\\\u001b[39;49m\u001b[38;5;124;43mConsumer Confidence Index.csv\u001b[39;49m\u001b[38;5;124;43m\"\u001b[39;49m\u001b[43m,\u001b[49m\u001b[43m \u001b[49m\u001b[43mheader\u001b[49m\u001b[38;5;241;43m=\u001b[39;49m\u001b[38;5;241;43m0\u001b[39;49m\u001b[43m,\u001b[49m\n\u001b[0;32m      2\u001b[0m \u001b[43m)\u001b[49m\n",
      "File \u001b[1;32mc:\\Users\\David\\AppData\\Local\\Programs\\Python\\Python312\\Lib\\site-packages\\pandas\\io\\parsers\\readers.py:1024\u001b[0m, in \u001b[0;36mread_csv\u001b[1;34m(filepath_or_buffer, sep, delimiter, header, names, index_col, usecols, dtype, engine, converters, true_values, false_values, skipinitialspace, skiprows, skipfooter, nrows, na_values, keep_default_na, na_filter, verbose, skip_blank_lines, parse_dates, infer_datetime_format, keep_date_col, date_parser, date_format, dayfirst, cache_dates, iterator, chunksize, compression, thousands, decimal, lineterminator, quotechar, quoting, doublequote, escapechar, comment, encoding, encoding_errors, dialect, on_bad_lines, delim_whitespace, low_memory, memory_map, float_precision, storage_options, dtype_backend)\u001b[0m\n\u001b[0;32m   1011\u001b[0m kwds_defaults \u001b[38;5;241m=\u001b[39m _refine_defaults_read(\n\u001b[0;32m   1012\u001b[0m     dialect,\n\u001b[0;32m   1013\u001b[0m     delimiter,\n\u001b[1;32m   (...)\u001b[0m\n\u001b[0;32m   1020\u001b[0m     dtype_backend\u001b[38;5;241m=\u001b[39mdtype_backend,\n\u001b[0;32m   1021\u001b[0m )\n\u001b[0;32m   1022\u001b[0m kwds\u001b[38;5;241m.\u001b[39mupdate(kwds_defaults)\n\u001b[1;32m-> 1024\u001b[0m \u001b[38;5;28;01mreturn\u001b[39;00m \u001b[43m_read\u001b[49m\u001b[43m(\u001b[49m\u001b[43mfilepath_or_buffer\u001b[49m\u001b[43m,\u001b[49m\u001b[43m \u001b[49m\u001b[43mkwds\u001b[49m\u001b[43m)\u001b[49m\n",
      "File \u001b[1;32mc:\\Users\\David\\AppData\\Local\\Programs\\Python\\Python312\\Lib\\site-packages\\pandas\\io\\parsers\\readers.py:618\u001b[0m, in \u001b[0;36m_read\u001b[1;34m(filepath_or_buffer, kwds)\u001b[0m\n\u001b[0;32m    615\u001b[0m _validate_names(kwds\u001b[38;5;241m.\u001b[39mget(\u001b[38;5;124m\"\u001b[39m\u001b[38;5;124mnames\u001b[39m\u001b[38;5;124m\"\u001b[39m, \u001b[38;5;28;01mNone\u001b[39;00m))\n\u001b[0;32m    617\u001b[0m \u001b[38;5;66;03m# Create the parser.\u001b[39;00m\n\u001b[1;32m--> 618\u001b[0m parser \u001b[38;5;241m=\u001b[39m \u001b[43mTextFileReader\u001b[49m\u001b[43m(\u001b[49m\u001b[43mfilepath_or_buffer\u001b[49m\u001b[43m,\u001b[49m\u001b[43m \u001b[49m\u001b[38;5;241;43m*\u001b[39;49m\u001b[38;5;241;43m*\u001b[39;49m\u001b[43mkwds\u001b[49m\u001b[43m)\u001b[49m\n\u001b[0;32m    620\u001b[0m \u001b[38;5;28;01mif\u001b[39;00m chunksize \u001b[38;5;129;01mor\u001b[39;00m iterator:\n\u001b[0;32m    621\u001b[0m     \u001b[38;5;28;01mreturn\u001b[39;00m parser\n",
      "File \u001b[1;32mc:\\Users\\David\\AppData\\Local\\Programs\\Python\\Python312\\Lib\\site-packages\\pandas\\io\\parsers\\readers.py:1618\u001b[0m, in \u001b[0;36mTextFileReader.__init__\u001b[1;34m(self, f, engine, **kwds)\u001b[0m\n\u001b[0;32m   1615\u001b[0m     \u001b[38;5;28mself\u001b[39m\u001b[38;5;241m.\u001b[39moptions[\u001b[38;5;124m\"\u001b[39m\u001b[38;5;124mhas_index_names\u001b[39m\u001b[38;5;124m\"\u001b[39m] \u001b[38;5;241m=\u001b[39m kwds[\u001b[38;5;124m\"\u001b[39m\u001b[38;5;124mhas_index_names\u001b[39m\u001b[38;5;124m\"\u001b[39m]\n\u001b[0;32m   1617\u001b[0m \u001b[38;5;28mself\u001b[39m\u001b[38;5;241m.\u001b[39mhandles: IOHandles \u001b[38;5;241m|\u001b[39m \u001b[38;5;28;01mNone\u001b[39;00m \u001b[38;5;241m=\u001b[39m \u001b[38;5;28;01mNone\u001b[39;00m\n\u001b[1;32m-> 1618\u001b[0m \u001b[38;5;28mself\u001b[39m\u001b[38;5;241m.\u001b[39m_engine \u001b[38;5;241m=\u001b[39m \u001b[38;5;28;43mself\u001b[39;49m\u001b[38;5;241;43m.\u001b[39;49m\u001b[43m_make_engine\u001b[49m\u001b[43m(\u001b[49m\u001b[43mf\u001b[49m\u001b[43m,\u001b[49m\u001b[43m \u001b[49m\u001b[38;5;28;43mself\u001b[39;49m\u001b[38;5;241;43m.\u001b[39;49m\u001b[43mengine\u001b[49m\u001b[43m)\u001b[49m\n",
      "File \u001b[1;32mc:\\Users\\David\\AppData\\Local\\Programs\\Python\\Python312\\Lib\\site-packages\\pandas\\io\\parsers\\readers.py:1878\u001b[0m, in \u001b[0;36mTextFileReader._make_engine\u001b[1;34m(self, f, engine)\u001b[0m\n\u001b[0;32m   1876\u001b[0m     \u001b[38;5;28;01mif\u001b[39;00m \u001b[38;5;124m\"\u001b[39m\u001b[38;5;124mb\u001b[39m\u001b[38;5;124m\"\u001b[39m \u001b[38;5;129;01mnot\u001b[39;00m \u001b[38;5;129;01min\u001b[39;00m mode:\n\u001b[0;32m   1877\u001b[0m         mode \u001b[38;5;241m+\u001b[39m\u001b[38;5;241m=\u001b[39m \u001b[38;5;124m\"\u001b[39m\u001b[38;5;124mb\u001b[39m\u001b[38;5;124m\"\u001b[39m\n\u001b[1;32m-> 1878\u001b[0m \u001b[38;5;28mself\u001b[39m\u001b[38;5;241m.\u001b[39mhandles \u001b[38;5;241m=\u001b[39m \u001b[43mget_handle\u001b[49m\u001b[43m(\u001b[49m\n\u001b[0;32m   1879\u001b[0m \u001b[43m    \u001b[49m\u001b[43mf\u001b[49m\u001b[43m,\u001b[49m\n\u001b[0;32m   1880\u001b[0m \u001b[43m    \u001b[49m\u001b[43mmode\u001b[49m\u001b[43m,\u001b[49m\n\u001b[0;32m   1881\u001b[0m \u001b[43m    \u001b[49m\u001b[43mencoding\u001b[49m\u001b[38;5;241;43m=\u001b[39;49m\u001b[38;5;28;43mself\u001b[39;49m\u001b[38;5;241;43m.\u001b[39;49m\u001b[43moptions\u001b[49m\u001b[38;5;241;43m.\u001b[39;49m\u001b[43mget\u001b[49m\u001b[43m(\u001b[49m\u001b[38;5;124;43m\"\u001b[39;49m\u001b[38;5;124;43mencoding\u001b[39;49m\u001b[38;5;124;43m\"\u001b[39;49m\u001b[43m,\u001b[49m\u001b[43m \u001b[49m\u001b[38;5;28;43;01mNone\u001b[39;49;00m\u001b[43m)\u001b[49m\u001b[43m,\u001b[49m\n\u001b[0;32m   1882\u001b[0m \u001b[43m    \u001b[49m\u001b[43mcompression\u001b[49m\u001b[38;5;241;43m=\u001b[39;49m\u001b[38;5;28;43mself\u001b[39;49m\u001b[38;5;241;43m.\u001b[39;49m\u001b[43moptions\u001b[49m\u001b[38;5;241;43m.\u001b[39;49m\u001b[43mget\u001b[49m\u001b[43m(\u001b[49m\u001b[38;5;124;43m\"\u001b[39;49m\u001b[38;5;124;43mcompression\u001b[39;49m\u001b[38;5;124;43m\"\u001b[39;49m\u001b[43m,\u001b[49m\u001b[43m \u001b[49m\u001b[38;5;28;43;01mNone\u001b[39;49;00m\u001b[43m)\u001b[49m\u001b[43m,\u001b[49m\n\u001b[0;32m   1883\u001b[0m \u001b[43m    \u001b[49m\u001b[43mmemory_map\u001b[49m\u001b[38;5;241;43m=\u001b[39;49m\u001b[38;5;28;43mself\u001b[39;49m\u001b[38;5;241;43m.\u001b[39;49m\u001b[43moptions\u001b[49m\u001b[38;5;241;43m.\u001b[39;49m\u001b[43mget\u001b[49m\u001b[43m(\u001b[49m\u001b[38;5;124;43m\"\u001b[39;49m\u001b[38;5;124;43mmemory_map\u001b[39;49m\u001b[38;5;124;43m\"\u001b[39;49m\u001b[43m,\u001b[49m\u001b[43m \u001b[49m\u001b[38;5;28;43;01mFalse\u001b[39;49;00m\u001b[43m)\u001b[49m\u001b[43m,\u001b[49m\n\u001b[0;32m   1884\u001b[0m \u001b[43m    \u001b[49m\u001b[43mis_text\u001b[49m\u001b[38;5;241;43m=\u001b[39;49m\u001b[43mis_text\u001b[49m\u001b[43m,\u001b[49m\n\u001b[0;32m   1885\u001b[0m \u001b[43m    \u001b[49m\u001b[43merrors\u001b[49m\u001b[38;5;241;43m=\u001b[39;49m\u001b[38;5;28;43mself\u001b[39;49m\u001b[38;5;241;43m.\u001b[39;49m\u001b[43moptions\u001b[49m\u001b[38;5;241;43m.\u001b[39;49m\u001b[43mget\u001b[49m\u001b[43m(\u001b[49m\u001b[38;5;124;43m\"\u001b[39;49m\u001b[38;5;124;43mencoding_errors\u001b[39;49m\u001b[38;5;124;43m\"\u001b[39;49m\u001b[43m,\u001b[49m\u001b[43m \u001b[49m\u001b[38;5;124;43m\"\u001b[39;49m\u001b[38;5;124;43mstrict\u001b[39;49m\u001b[38;5;124;43m\"\u001b[39;49m\u001b[43m)\u001b[49m\u001b[43m,\u001b[49m\n\u001b[0;32m   1886\u001b[0m \u001b[43m    \u001b[49m\u001b[43mstorage_options\u001b[49m\u001b[38;5;241;43m=\u001b[39;49m\u001b[38;5;28;43mself\u001b[39;49m\u001b[38;5;241;43m.\u001b[39;49m\u001b[43moptions\u001b[49m\u001b[38;5;241;43m.\u001b[39;49m\u001b[43mget\u001b[49m\u001b[43m(\u001b[49m\u001b[38;5;124;43m\"\u001b[39;49m\u001b[38;5;124;43mstorage_options\u001b[39;49m\u001b[38;5;124;43m\"\u001b[39;49m\u001b[43m,\u001b[49m\u001b[43m \u001b[49m\u001b[38;5;28;43;01mNone\u001b[39;49;00m\u001b[43m)\u001b[49m\u001b[43m,\u001b[49m\n\u001b[0;32m   1887\u001b[0m \u001b[43m\u001b[49m\u001b[43m)\u001b[49m\n\u001b[0;32m   1888\u001b[0m \u001b[38;5;28;01massert\u001b[39;00m \u001b[38;5;28mself\u001b[39m\u001b[38;5;241m.\u001b[39mhandles \u001b[38;5;129;01mis\u001b[39;00m \u001b[38;5;129;01mnot\u001b[39;00m \u001b[38;5;28;01mNone\u001b[39;00m\n\u001b[0;32m   1889\u001b[0m f \u001b[38;5;241m=\u001b[39m \u001b[38;5;28mself\u001b[39m\u001b[38;5;241m.\u001b[39mhandles\u001b[38;5;241m.\u001b[39mhandle\n",
      "File \u001b[1;32mc:\\Users\\David\\AppData\\Local\\Programs\\Python\\Python312\\Lib\\site-packages\\pandas\\io\\common.py:873\u001b[0m, in \u001b[0;36mget_handle\u001b[1;34m(path_or_buf, mode, encoding, compression, memory_map, is_text, errors, storage_options)\u001b[0m\n\u001b[0;32m    868\u001b[0m \u001b[38;5;28;01melif\u001b[39;00m \u001b[38;5;28misinstance\u001b[39m(handle, \u001b[38;5;28mstr\u001b[39m):\n\u001b[0;32m    869\u001b[0m     \u001b[38;5;66;03m# Check whether the filename is to be opened in binary mode.\u001b[39;00m\n\u001b[0;32m    870\u001b[0m     \u001b[38;5;66;03m# Binary mode does not support 'encoding' and 'newline'.\u001b[39;00m\n\u001b[0;32m    871\u001b[0m     \u001b[38;5;28;01mif\u001b[39;00m ioargs\u001b[38;5;241m.\u001b[39mencoding \u001b[38;5;129;01mand\u001b[39;00m \u001b[38;5;124m\"\u001b[39m\u001b[38;5;124mb\u001b[39m\u001b[38;5;124m\"\u001b[39m \u001b[38;5;129;01mnot\u001b[39;00m \u001b[38;5;129;01min\u001b[39;00m ioargs\u001b[38;5;241m.\u001b[39mmode:\n\u001b[0;32m    872\u001b[0m         \u001b[38;5;66;03m# Encoding\u001b[39;00m\n\u001b[1;32m--> 873\u001b[0m         handle \u001b[38;5;241m=\u001b[39m \u001b[38;5;28;43mopen\u001b[39;49m\u001b[43m(\u001b[49m\n\u001b[0;32m    874\u001b[0m \u001b[43m            \u001b[49m\u001b[43mhandle\u001b[49m\u001b[43m,\u001b[49m\n\u001b[0;32m    875\u001b[0m \u001b[43m            \u001b[49m\u001b[43mioargs\u001b[49m\u001b[38;5;241;43m.\u001b[39;49m\u001b[43mmode\u001b[49m\u001b[43m,\u001b[49m\n\u001b[0;32m    876\u001b[0m \u001b[43m            \u001b[49m\u001b[43mencoding\u001b[49m\u001b[38;5;241;43m=\u001b[39;49m\u001b[43mioargs\u001b[49m\u001b[38;5;241;43m.\u001b[39;49m\u001b[43mencoding\u001b[49m\u001b[43m,\u001b[49m\n\u001b[0;32m    877\u001b[0m \u001b[43m            \u001b[49m\u001b[43merrors\u001b[49m\u001b[38;5;241;43m=\u001b[39;49m\u001b[43merrors\u001b[49m\u001b[43m,\u001b[49m\n\u001b[0;32m    878\u001b[0m \u001b[43m            \u001b[49m\u001b[43mnewline\u001b[49m\u001b[38;5;241;43m=\u001b[39;49m\u001b[38;5;124;43m\"\u001b[39;49m\u001b[38;5;124;43m\"\u001b[39;49m\u001b[43m,\u001b[49m\n\u001b[0;32m    879\u001b[0m \u001b[43m        \u001b[49m\u001b[43m)\u001b[49m\n\u001b[0;32m    880\u001b[0m     \u001b[38;5;28;01melse\u001b[39;00m:\n\u001b[0;32m    881\u001b[0m         \u001b[38;5;66;03m# Binary mode\u001b[39;00m\n\u001b[0;32m    882\u001b[0m         handle \u001b[38;5;241m=\u001b[39m \u001b[38;5;28mopen\u001b[39m(handle, ioargs\u001b[38;5;241m.\u001b[39mmode)\n",
      "\u001b[1;31mFileNotFoundError\u001b[0m: [Errno 2] No such file or directory: 'C:\\\\Git_test\\\\Project 2 Docs\\\\Data Sets\\\\Consumer Confidence Index.csv'"
     ]
    }
   ],
   "source": [
    "df = pd.read_csv(r\"C:\\Git_test\\Project 2 Docs\\Data Sets\\Consumer Confidence Index.csv\", header=0,\n",
    ")"
   ]
  },
  {
   "cell_type": "code",
   "execution_count": null,
   "id": "9bb0d8e5",
   "metadata": {},
   "outputs": [
    {
     "name": "stdout",
     "output_type": "stream",
     "text": [
      "  STRUCTURE                        STRUCTURE_ID                STRUCTURE_NAME  \\\n",
      "0  DATAFLOW  OECD.SDD.STES:DSD_STES@DF_CLI(4.1)  Composite leading indicators   \n",
      "1  DATAFLOW  OECD.SDD.STES:DSD_STES@DF_CLI(4.1)  Composite leading indicators   \n",
      "2  DATAFLOW  OECD.SDD.STES:DSD_STES@DF_CLI(4.1)  Composite leading indicators   \n",
      "3  DATAFLOW  OECD.SDD.STES:DSD_STES@DF_CLI(4.1)  Composite leading indicators   \n",
      "4  DATAFLOW  OECD.SDD.STES:DSD_STES@DF_CLI(4.1)  Composite leading indicators   \n",
      "\n",
      "  ACTION REF_AREA Reference area FREQ Frequency of observation MEASURE  \\\n",
      "0      I    NAFTA          NAFTA    M                  Monthly      LI   \n",
      "1      I    NAFTA          NAFTA    M                  Monthly      LI   \n",
      "2      I      AUS      Australia    M                  Monthly      LI   \n",
      "3      I      AUS      Australia    M                  Monthly      LI   \n",
      "4      I      AUS      Australia    M                  Monthly      LI   \n",
      "\n",
      "                             Measure  ...  OBS_VALUE Observation value  \\\n",
      "0  Composite leading indicator (CLI)  ...  100.52800               NaN   \n",
      "1  Composite leading indicator (CLI)  ...  100.52760               NaN   \n",
      "2  Composite leading indicator (CLI)  ...  100.30720               NaN   \n",
      "3  Composite leading indicator (CLI)  ...  100.70580               NaN   \n",
      "4  Composite leading indicator (CLI)  ...   99.10394               NaN   \n",
      "\n",
      "  OBS_STATUS Observation status UNIT_MULT Unit multiplier DECIMALS Decimals  \\\n",
      "0          A       Normal value         0           Units        2      Two   \n",
      "1          A       Normal value         0           Units        2      Two   \n",
      "2          A       Normal value         0           Units        2      Two   \n",
      "3          A       Normal value         0           Units        2      Two   \n",
      "4          A       Normal value         0           Units        2      Two   \n",
      "\n",
      "  BASE_PER Base period  \n",
      "0      NaN         NaN  \n",
      "1      NaN         NaN  \n",
      "2      NaN         NaN  \n",
      "3      NaN         NaN  \n",
      "4      NaN         NaN  \n",
      "\n",
      "[5 rows x 34 columns]\n",
      "(13967, 34)\n"
     ]
    }
   ],
   "source": [
    "print(df.head())\n",
    "print(df.shape)"
   ]
  },
  {
   "cell_type": "code",
   "execution_count": null,
   "id": "298ad4e5",
   "metadata": {},
   "outputs": [
    {
     "name": "stdout",
     "output_type": "stream",
     "text": [
      "<bound method IndexOpsMixin.tolist of Index(['STRUCTURE', 'STRUCTURE_ID', 'STRUCTURE_NAME', 'ACTION', 'REF_AREA',\n",
      "       'Reference area', 'FREQ', 'Frequency of observation', 'MEASURE',\n",
      "       'Measure', 'UNIT_MEASURE', 'Unit of measure', 'ACTIVITY',\n",
      "       'Economic activity', 'ADJUSTMENT', 'Adjustment', 'TRANSFORMATION',\n",
      "       'Transformation', 'TIME_HORIZ', 'Time horizon', 'METHODOLOGY',\n",
      "       'Calculation methodology', 'TIME_PERIOD', 'Time period', 'OBS_VALUE',\n",
      "       'Observation value', 'OBS_STATUS', 'Observation status', 'UNIT_MULT',\n",
      "       'Unit multiplier', 'DECIMALS', 'Decimals', 'BASE_PER', 'Base period'],\n",
      "      dtype='object')>\n"
     ]
    }
   ],
   "source": [
    "print(df.columns.tolist)"
   ]
  },
  {
   "cell_type": "code",
   "execution_count": null,
   "id": "69436e32",
   "metadata": {},
   "outputs": [
    {
     "data": {
      "text/html": [
       "<div>\n",
       "<style scoped>\n",
       "    .dataframe tbody tr th:only-of-type {\n",
       "        vertical-align: middle;\n",
       "    }\n",
       "\n",
       "    .dataframe tbody tr th {\n",
       "        vertical-align: top;\n",
       "    }\n",
       "\n",
       "    .dataframe thead th {\n",
       "        text-align: right;\n",
       "    }\n",
       "</style>\n",
       "<table border=\"1\" class=\"dataframe\">\n",
       "  <thead>\n",
       "    <tr style=\"text-align: right;\">\n",
       "      <th></th>\n",
       "      <th>Reference area</th>\n",
       "      <th>TIME_PERIOD</th>\n",
       "      <th>OBS_VALUE</th>\n",
       "    </tr>\n",
       "  </thead>\n",
       "  <tbody>\n",
       "    <tr>\n",
       "      <th>0</th>\n",
       "      <td>NAFTA</td>\n",
       "      <td>2004-12</td>\n",
       "      <td>100.52800</td>\n",
       "    </tr>\n",
       "    <tr>\n",
       "      <th>1</th>\n",
       "      <td>NAFTA</td>\n",
       "      <td>2004-11</td>\n",
       "      <td>100.52760</td>\n",
       "    </tr>\n",
       "    <tr>\n",
       "      <th>2</th>\n",
       "      <td>Australia</td>\n",
       "      <td>1981-09</td>\n",
       "      <td>100.30720</td>\n",
       "    </tr>\n",
       "    <tr>\n",
       "      <th>3</th>\n",
       "      <td>Australia</td>\n",
       "      <td>1981-08</td>\n",
       "      <td>100.70580</td>\n",
       "    </tr>\n",
       "    <tr>\n",
       "      <th>4</th>\n",
       "      <td>Australia</td>\n",
       "      <td>1977-07</td>\n",
       "      <td>99.10394</td>\n",
       "    </tr>\n",
       "    <tr>\n",
       "      <th>...</th>\n",
       "      <td>...</td>\n",
       "      <td>...</td>\n",
       "      <td>...</td>\n",
       "    </tr>\n",
       "    <tr>\n",
       "      <th>13962</th>\n",
       "      <td>NAFTA</td>\n",
       "      <td>2005-05</td>\n",
       "      <td>100.24020</td>\n",
       "    </tr>\n",
       "    <tr>\n",
       "      <th>13963</th>\n",
       "      <td>NAFTA</td>\n",
       "      <td>2005-04</td>\n",
       "      <td>100.27510</td>\n",
       "    </tr>\n",
       "    <tr>\n",
       "      <th>13964</th>\n",
       "      <td>NAFTA</td>\n",
       "      <td>2005-03</td>\n",
       "      <td>100.35330</td>\n",
       "    </tr>\n",
       "    <tr>\n",
       "      <th>13965</th>\n",
       "      <td>NAFTA</td>\n",
       "      <td>2005-02</td>\n",
       "      <td>100.44250</td>\n",
       "    </tr>\n",
       "    <tr>\n",
       "      <th>13966</th>\n",
       "      <td>NAFTA</td>\n",
       "      <td>2005-01</td>\n",
       "      <td>100.50380</td>\n",
       "    </tr>\n",
       "  </tbody>\n",
       "</table>\n",
       "<p>13967 rows × 3 columns</p>\n",
       "</div>"
      ],
      "text/plain": [
       "      Reference area TIME_PERIOD  OBS_VALUE\n",
       "0              NAFTA     2004-12  100.52800\n",
       "1              NAFTA     2004-11  100.52760\n",
       "2          Australia     1981-09  100.30720\n",
       "3          Australia     1981-08  100.70580\n",
       "4          Australia     1977-07   99.10394\n",
       "...              ...         ...        ...\n",
       "13962          NAFTA     2005-05  100.24020\n",
       "13963          NAFTA     2005-04  100.27510\n",
       "13964          NAFTA     2005-03  100.35330\n",
       "13965          NAFTA     2005-02  100.44250\n",
       "13966          NAFTA     2005-01  100.50380\n",
       "\n",
       "[13967 rows x 3 columns]"
      ]
     },
     "execution_count": 78,
     "metadata": {},
     "output_type": "execute_result"
    }
   ],
   "source": [
    "df = df[['Reference area', 'TIME_PERIOD', 'OBS_VALUE']]\n",
    "df"
   ]
  },
  {
   "cell_type": "code",
   "execution_count": null,
   "id": "39b2a1cd",
   "metadata": {},
   "outputs": [
    {
     "name": "stderr",
     "output_type": "stream",
     "text": [
      "C:\\Users\\David\\AppData\\Local\\Temp\\ipykernel_23536\\3970406019.py:1: FutureWarning: DataFrame.applymap has been deprecated. Use DataFrame.map instead.\n",
      "  df.iloc[0:].applymap(type)\n"
     ]
    },
    {
     "data": {
      "text/html": [
       "<div>\n",
       "<style scoped>\n",
       "    .dataframe tbody tr th:only-of-type {\n",
       "        vertical-align: middle;\n",
       "    }\n",
       "\n",
       "    .dataframe tbody tr th {\n",
       "        vertical-align: top;\n",
       "    }\n",
       "\n",
       "    .dataframe thead th {\n",
       "        text-align: right;\n",
       "    }\n",
       "</style>\n",
       "<table border=\"1\" class=\"dataframe\">\n",
       "  <thead>\n",
       "    <tr style=\"text-align: right;\">\n",
       "      <th></th>\n",
       "      <th>Reference area</th>\n",
       "      <th>TIME_PERIOD</th>\n",
       "      <th>OBS_VALUE</th>\n",
       "    </tr>\n",
       "  </thead>\n",
       "  <tbody>\n",
       "    <tr>\n",
       "      <th>0</th>\n",
       "      <td>&lt;class 'str'&gt;</td>\n",
       "      <td>&lt;class 'str'&gt;</td>\n",
       "      <td>&lt;class 'float'&gt;</td>\n",
       "    </tr>\n",
       "    <tr>\n",
       "      <th>1</th>\n",
       "      <td>&lt;class 'str'&gt;</td>\n",
       "      <td>&lt;class 'str'&gt;</td>\n",
       "      <td>&lt;class 'float'&gt;</td>\n",
       "    </tr>\n",
       "    <tr>\n",
       "      <th>2</th>\n",
       "      <td>&lt;class 'str'&gt;</td>\n",
       "      <td>&lt;class 'str'&gt;</td>\n",
       "      <td>&lt;class 'float'&gt;</td>\n",
       "    </tr>\n",
       "    <tr>\n",
       "      <th>3</th>\n",
       "      <td>&lt;class 'str'&gt;</td>\n",
       "      <td>&lt;class 'str'&gt;</td>\n",
       "      <td>&lt;class 'float'&gt;</td>\n",
       "    </tr>\n",
       "    <tr>\n",
       "      <th>4</th>\n",
       "      <td>&lt;class 'str'&gt;</td>\n",
       "      <td>&lt;class 'str'&gt;</td>\n",
       "      <td>&lt;class 'float'&gt;</td>\n",
       "    </tr>\n",
       "    <tr>\n",
       "      <th>...</th>\n",
       "      <td>...</td>\n",
       "      <td>...</td>\n",
       "      <td>...</td>\n",
       "    </tr>\n",
       "    <tr>\n",
       "      <th>13962</th>\n",
       "      <td>&lt;class 'str'&gt;</td>\n",
       "      <td>&lt;class 'str'&gt;</td>\n",
       "      <td>&lt;class 'float'&gt;</td>\n",
       "    </tr>\n",
       "    <tr>\n",
       "      <th>13963</th>\n",
       "      <td>&lt;class 'str'&gt;</td>\n",
       "      <td>&lt;class 'str'&gt;</td>\n",
       "      <td>&lt;class 'float'&gt;</td>\n",
       "    </tr>\n",
       "    <tr>\n",
       "      <th>13964</th>\n",
       "      <td>&lt;class 'str'&gt;</td>\n",
       "      <td>&lt;class 'str'&gt;</td>\n",
       "      <td>&lt;class 'float'&gt;</td>\n",
       "    </tr>\n",
       "    <tr>\n",
       "      <th>13965</th>\n",
       "      <td>&lt;class 'str'&gt;</td>\n",
       "      <td>&lt;class 'str'&gt;</td>\n",
       "      <td>&lt;class 'float'&gt;</td>\n",
       "    </tr>\n",
       "    <tr>\n",
       "      <th>13966</th>\n",
       "      <td>&lt;class 'str'&gt;</td>\n",
       "      <td>&lt;class 'str'&gt;</td>\n",
       "      <td>&lt;class 'float'&gt;</td>\n",
       "    </tr>\n",
       "  </tbody>\n",
       "</table>\n",
       "<p>13967 rows × 3 columns</p>\n",
       "</div>"
      ],
      "text/plain": [
       "      Reference area    TIME_PERIOD        OBS_VALUE\n",
       "0      <class 'str'>  <class 'str'>  <class 'float'>\n",
       "1      <class 'str'>  <class 'str'>  <class 'float'>\n",
       "2      <class 'str'>  <class 'str'>  <class 'float'>\n",
       "3      <class 'str'>  <class 'str'>  <class 'float'>\n",
       "4      <class 'str'>  <class 'str'>  <class 'float'>\n",
       "...              ...            ...              ...\n",
       "13962  <class 'str'>  <class 'str'>  <class 'float'>\n",
       "13963  <class 'str'>  <class 'str'>  <class 'float'>\n",
       "13964  <class 'str'>  <class 'str'>  <class 'float'>\n",
       "13965  <class 'str'>  <class 'str'>  <class 'float'>\n",
       "13966  <class 'str'>  <class 'str'>  <class 'float'>\n",
       "\n",
       "[13967 rows x 3 columns]"
      ]
     },
     "execution_count": 79,
     "metadata": {},
     "output_type": "execute_result"
    }
   ],
   "source": [
    "df.iloc[0:].applymap(type)"
   ]
  },
  {
   "cell_type": "code",
   "execution_count": null,
   "id": "ab6383ee",
   "metadata": {},
   "outputs": [
    {
     "data": {
      "text/html": [
       "<div>\n",
       "<style scoped>\n",
       "    .dataframe tbody tr th:only-of-type {\n",
       "        vertical-align: middle;\n",
       "    }\n",
       "\n",
       "    .dataframe tbody tr th {\n",
       "        vertical-align: top;\n",
       "    }\n",
       "\n",
       "    .dataframe thead th {\n",
       "        text-align: right;\n",
       "    }\n",
       "</style>\n",
       "<table border=\"1\" class=\"dataframe\">\n",
       "  <thead>\n",
       "    <tr style=\"text-align: right;\">\n",
       "      <th></th>\n",
       "      <th>Reference area</th>\n",
       "      <th>TIME_PERIOD</th>\n",
       "      <th>CCI Value</th>\n",
       "    </tr>\n",
       "  </thead>\n",
       "  <tbody>\n",
       "    <tr>\n",
       "      <th>0</th>\n",
       "      <td>NAFTA</td>\n",
       "      <td>2004-12</td>\n",
       "      <td>100.52800</td>\n",
       "    </tr>\n",
       "    <tr>\n",
       "      <th>1</th>\n",
       "      <td>NAFTA</td>\n",
       "      <td>2004-11</td>\n",
       "      <td>100.52760</td>\n",
       "    </tr>\n",
       "    <tr>\n",
       "      <th>2</th>\n",
       "      <td>Australia</td>\n",
       "      <td>1981-09</td>\n",
       "      <td>100.30720</td>\n",
       "    </tr>\n",
       "    <tr>\n",
       "      <th>3</th>\n",
       "      <td>Australia</td>\n",
       "      <td>1981-08</td>\n",
       "      <td>100.70580</td>\n",
       "    </tr>\n",
       "    <tr>\n",
       "      <th>4</th>\n",
       "      <td>Australia</td>\n",
       "      <td>1977-07</td>\n",
       "      <td>99.10394</td>\n",
       "    </tr>\n",
       "    <tr>\n",
       "      <th>...</th>\n",
       "      <td>...</td>\n",
       "      <td>...</td>\n",
       "      <td>...</td>\n",
       "    </tr>\n",
       "    <tr>\n",
       "      <th>13962</th>\n",
       "      <td>NAFTA</td>\n",
       "      <td>2005-05</td>\n",
       "      <td>100.24020</td>\n",
       "    </tr>\n",
       "    <tr>\n",
       "      <th>13963</th>\n",
       "      <td>NAFTA</td>\n",
       "      <td>2005-04</td>\n",
       "      <td>100.27510</td>\n",
       "    </tr>\n",
       "    <tr>\n",
       "      <th>13964</th>\n",
       "      <td>NAFTA</td>\n",
       "      <td>2005-03</td>\n",
       "      <td>100.35330</td>\n",
       "    </tr>\n",
       "    <tr>\n",
       "      <th>13965</th>\n",
       "      <td>NAFTA</td>\n",
       "      <td>2005-02</td>\n",
       "      <td>100.44250</td>\n",
       "    </tr>\n",
       "    <tr>\n",
       "      <th>13966</th>\n",
       "      <td>NAFTA</td>\n",
       "      <td>2005-01</td>\n",
       "      <td>100.50380</td>\n",
       "    </tr>\n",
       "  </tbody>\n",
       "</table>\n",
       "<p>13967 rows × 3 columns</p>\n",
       "</div>"
      ],
      "text/plain": [
       "      Reference area TIME_PERIOD  CCI Value\n",
       "0              NAFTA     2004-12  100.52800\n",
       "1              NAFTA     2004-11  100.52760\n",
       "2          Australia     1981-09  100.30720\n",
       "3          Australia     1981-08  100.70580\n",
       "4          Australia     1977-07   99.10394\n",
       "...              ...         ...        ...\n",
       "13962          NAFTA     2005-05  100.24020\n",
       "13963          NAFTA     2005-04  100.27510\n",
       "13964          NAFTA     2005-03  100.35330\n",
       "13965          NAFTA     2005-02  100.44250\n",
       "13966          NAFTA     2005-01  100.50380\n",
       "\n",
       "[13967 rows x 3 columns]"
      ]
     },
     "execution_count": 80,
     "metadata": {},
     "output_type": "execute_result"
    }
   ],
   "source": [
    "df = df.rename(columns={'OBS_VALUE': 'CCI Value'})\n",
    "df"
   ]
  },
  {
   "cell_type": "code",
   "execution_count": null,
   "id": "0f08248b",
   "metadata": {},
   "outputs": [
    {
     "data": {
      "text/plain": [
       "7422     1955-01\n",
       "13101    1955-02\n",
       "7421     1955-02\n",
       "7647     1955-03\n",
       "13100    1955-03\n",
       "          ...   \n",
       "11984    2025-09\n",
       "8445     2025-09\n",
       "9278     2025-09\n",
       "12956    2025-09\n",
       "2215     2025-09\n",
       "Name: TIME_PERIOD, Length: 13967, dtype: object"
      ]
     },
     "execution_count": 81,
     "metadata": {},
     "output_type": "execute_result"
    }
   ],
   "source": [
    "df = df.sort_values('TIME_PERIOD')\n",
    "df['TIME_PERIOD']"
   ]
  },
  {
   "cell_type": "code",
   "execution_count": null,
   "id": "4aa395b9",
   "metadata": {},
   "outputs": [
    {
     "data": {
      "text/plain": [
       "6600    United Kingdom\n",
       "6599    United Kingdom\n",
       "6598    United Kingdom\n",
       "6597    United Kingdom\n",
       "6596    United Kingdom\n",
       "             ...      \n",
       "7309    United Kingdom\n",
       "7308    United Kingdom\n",
       "7307    United Kingdom\n",
       "7306    United Kingdom\n",
       "7305    United Kingdom\n",
       "Name: Reference area, Length: 814, dtype: object"
      ]
     },
     "execution_count": 82,
     "metadata": {},
     "output_type": "execute_result"
    }
   ],
   "source": [
    "df = df[df['Reference area'] == 'United Kingdom']\n",
    "df['Reference area']"
   ]
  },
  {
   "cell_type": "code",
   "execution_count": null,
   "id": "880f9548",
   "metadata": {},
   "outputs": [
    {
     "data": {
      "text/html": [
       "<div>\n",
       "<style scoped>\n",
       "    .dataframe tbody tr th:only-of-type {\n",
       "        vertical-align: middle;\n",
       "    }\n",
       "\n",
       "    .dataframe tbody tr th {\n",
       "        vertical-align: top;\n",
       "    }\n",
       "\n",
       "    .dataframe thead th {\n",
       "        text-align: right;\n",
       "    }\n",
       "</style>\n",
       "<table border=\"1\" class=\"dataframe\">\n",
       "  <thead>\n",
       "    <tr style=\"text-align: right;\">\n",
       "      <th></th>\n",
       "      <th>Reference area</th>\n",
       "      <th>TIME_PERIOD</th>\n",
       "      <th>CCI Value</th>\n",
       "    </tr>\n",
       "  </thead>\n",
       "  <tbody>\n",
       "    <tr>\n",
       "      <th>7169</th>\n",
       "      <td>United Kingdom</td>\n",
       "      <td>2015-01</td>\n",
       "      <td>101.3254</td>\n",
       "    </tr>\n",
       "    <tr>\n",
       "      <th>7311</th>\n",
       "      <td>United Kingdom</td>\n",
       "      <td>2025-03</td>\n",
       "      <td>100.7234</td>\n",
       "    </tr>\n",
       "  </tbody>\n",
       "</table>\n",
       "</div>"
      ],
      "text/plain": [
       "      Reference area TIME_PERIOD  CCI Value\n",
       "7169  United Kingdom     2015-01   101.3254\n",
       "7311  United Kingdom     2025-03   100.7234"
      ]
     },
     "execution_count": 83,
     "metadata": {},
     "output_type": "execute_result"
    }
   ],
   "source": [
    "df[df['TIME_PERIOD'].isin(['2015-01','2025-03'])]"
   ]
  },
  {
   "cell_type": "code",
   "execution_count": null,
   "id": "0785fa50",
   "metadata": {},
   "outputs": [
    {
     "name": "stdout",
     "output_type": "stream",
     "text": [
      "6600    1957-12\n",
      "6599    1958-01\n",
      "6598    1958-02\n",
      "6597    1958-03\n",
      "6596    1958-04\n",
      "         ...   \n",
      "7309    2025-05\n",
      "7308    2025-06\n",
      "7307    2025-07\n",
      "7306    2025-08\n",
      "7305    2025-09\n",
      "Name: TIME_PERIOD, Length: 814, dtype: object\n"
     ]
    }
   ],
   "source": [
    "pd.set_option('display.max_rows', 60)\n",
    "print(df['TIME_PERIOD'])"
   ]
  },
  {
   "cell_type": "code",
   "execution_count": null,
   "id": "4771a115",
   "metadata": {},
   "outputs": [
    {
     "name": "stdout",
     "output_type": "stream",
     "text": [
      "7169    2015-01\n",
      "7168    2015-02\n",
      "7167    2015-03\n",
      "7166    2015-04\n",
      "7165    2015-05\n",
      "         ...   \n",
      "7315    2024-11\n",
      "7314    2024-12\n",
      "7313    2025-01\n",
      "7312    2025-02\n",
      "7311    2025-03\n",
      "Name: TIME_PERIOD, Length: 123, dtype: object\n"
     ]
    }
   ],
   "source": [
    "df = df.loc[7169:7311]\n",
    "print(df['TIME_PERIOD'])"
   ]
  },
  {
   "cell_type": "code",
   "execution_count": null,
   "id": "eedb6488",
   "metadata": {},
   "outputs": [
    {
     "data": {
      "text/plain": [
       "7169    101\n",
       "7168    101\n",
       "7167    101\n",
       "7166    101\n",
       "7165    101\n",
       "       ... \n",
       "7315    100\n",
       "7314    100\n",
       "7313    100\n",
       "7312    100\n",
       "7311    100\n",
       "Name: CCI Value, Length: 123, dtype: int32"
      ]
     },
     "execution_count": 86,
     "metadata": {},
     "output_type": "execute_result"
    }
   ],
   "source": [
    "df['CCI Value'] = df['CCI Value'].astype(int)\n",
    "df['CCI Value']"
   ]
  },
  {
   "cell_type": "code",
   "execution_count": null,
   "id": "d844641a",
   "metadata": {},
   "outputs": [
    {
     "name": "stdout",
     "output_type": "stream",
     "text": [
      "Index([7169, 7168, 7167, 7166, 7165, 7164, 7163, 7162, 7161, 7160,\n",
      "       ...\n",
      "       7320, 7319, 7318, 7317, 7316, 7315, 7314, 7313, 7312, 7311],\n",
      "      dtype='int64', length=123)\n",
      "123\n"
     ]
    }
   ],
   "source": [
    "print(df.index)\n",
    "print(len(df))"
   ]
  },
  {
   "cell_type": "code",
   "execution_count": null,
   "id": "5e6b06c2",
   "metadata": {},
   "outputs": [
    {
     "name": "stdout",
     "output_type": "stream",
     "text": [
      "0\n"
     ]
    }
   ],
   "source": [
    "print(df['CCI Value'].isna().sum())"
   ]
  },
  {
   "cell_type": "code",
   "execution_count": null,
   "id": "5bad6f8d",
   "metadata": {},
   "outputs": [],
   "source": [
    "df = df.reset_index(drop=True)"
   ]
  },
  {
   "cell_type": "code",
   "execution_count": null,
   "id": "219cb391",
   "metadata": {},
   "outputs": [
    {
     "name": "stdout",
     "output_type": "stream",
     "text": [
      "0     101.000000\n",
      "1     101.000000\n",
      "2     100.333333\n",
      "3     100.000000\n",
      "4      99.666667\n",
      "5      99.000000\n",
      "6      99.666667\n",
      "7     100.000000\n",
      "8     101.000000\n",
      "9     101.000000\n",
      "10    100.666667\n",
      "11    100.000000\n",
      "12    100.000000\n",
      "13     99.666667\n",
      "14     98.666667\n",
      "15     98.000000\n",
      "16     97.000000\n",
      "17     97.000000\n",
      "18     97.000000\n",
      "19     97.333333\n",
      "20     97.333333\n",
      "21     90.000000\n",
      "22     98.666667\n",
      "23     97.333333\n",
      "24     99.000000\n",
      "25    101.000000\n",
      "26    101.666667\n",
      "27    100.666667\n",
      "28     99.000000\n",
      "29     96.333333\n",
      "30     95.000000\n",
      "31     95.000000\n",
      "32     96.333333\n",
      "33     97.666667\n",
      "34     98.333333\n",
      "35     99.000000\n",
      "36     99.666667\n",
      "37    100.000000\n",
      "38    100.000000\n",
      "39    100.000000\n",
      "40    100.000000\n",
      "Name: CCI Value, dtype: float64\n"
     ]
    }
   ],
   "source": [
    "df_merged = df.groupby(df.index // 3)['CCI Value'].mean()\n",
    "print(df_merged)"
   ]
  },
  {
   "cell_type": "code",
   "execution_count": null,
   "id": "5fe5bdb8",
   "metadata": {},
   "outputs": [
    {
     "name": "stdout",
     "output_type": "stream",
     "text": [
      "(41,)\n",
      "0     101.000000\n",
      "1     101.000000\n",
      "2     100.333333\n",
      "3     100.000000\n",
      "4      99.666667\n",
      "5      99.000000\n",
      "6      99.666667\n",
      "7     100.000000\n",
      "8     101.000000\n",
      "9     101.000000\n",
      "10    100.666667\n",
      "11    100.000000\n",
      "12    100.000000\n",
      "13     99.666667\n",
      "14     98.666667\n",
      "15     98.000000\n",
      "16     97.000000\n",
      "17     97.000000\n",
      "18     97.000000\n",
      "19     97.333333\n",
      "20     97.333333\n",
      "21     90.000000\n",
      "22     98.666667\n",
      "23     97.333333\n",
      "24     99.000000\n",
      "25    101.000000\n",
      "26    101.666667\n",
      "27    100.666667\n",
      "28     99.000000\n",
      "29     96.333333\n",
      "30     95.000000\n",
      "31     95.000000\n",
      "32     96.333333\n",
      "33     97.666667\n",
      "34     98.333333\n",
      "35     99.000000\n",
      "36     99.666667\n",
      "37    100.000000\n",
      "38    100.000000\n",
      "39    100.000000\n",
      "40    100.000000\n",
      "Name: CCI Value, dtype: float64\n"
     ]
    }
   ],
   "source": [
    "print(df_merged.shape)\n",
    "print(df_merged)"
   ]
  },
  {
   "cell_type": "code",
   "execution_count": null,
   "id": "81d52d5e",
   "metadata": {},
   "outputs": [],
   "source": [
    "df_merged.to_excel(\"C:\\\\Git_test\\\\Project 2 Docs\\\\Data Sets\\\\CCI_transformed.xlsx\", index=False)"
   ]
  }
 ],
 "metadata": {
  "kernelspec": {
   "display_name": "Python 3",
   "language": "python",
   "name": "python3"
  },
  "language_info": {
   "codemirror_mode": {
    "name": "ipython",
    "version": 3
   },
   "file_extension": ".py",
   "mimetype": "text/x-python",
   "name": "python",
   "nbconvert_exporter": "python",
   "pygments_lexer": "ipython3",
   "version": "3.12.1"
  }
 },
 "nbformat": 4,
 "nbformat_minor": 5
}
